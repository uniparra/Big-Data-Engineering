{
 "cells": [
  {
   "cell_type": "markdown",
   "id": "19df8044-2da9-498b-a06b-0c1f4457b875",
   "metadata": {},
   "source": [
    "## Creación de Bases de datos, Tablas y View's"
   ]
  },
  {
   "cell_type": "markdown",
   "id": "78028c54-c3b2-45f1-b4c6-f69f6e410c57",
   "metadata": {},
   "source": [
    "Creamos una base de datos. Y le indicamos a spark que use dicho DB. Señalar que toda tabla creada a partir de ahora se guardará bajo la la DB creada."
   ]
  },
  {
   "cell_type": "code",
   "execution_count": 16,
   "id": "b0c06777-4803-4d92-ae4b-90efd2cc15d2",
   "metadata": {},
   "outputs": [
    {
     "data": {
      "text/plain": [
       "res14: org.apache.spark.sql.DataFrame = []\n"
      ]
     },
     "execution_count": 16,
     "metadata": {},
     "output_type": "execute_result"
    }
   ],
   "source": [
    "spark.sql(\"\"\"CREATE DATABASE learn_spark_db\"\"\")\n",
    "spark.sql(\"\"\"USE learn_spark_db\"\"\")"
   ]
  },
  {
   "cell_type": "markdown",
   "id": "66cd64e0-aa10-44cf-9f99-80ed9db70f5c",
   "metadata": {},
   "source": [
    "#### Creamos una managed table o tabla administrada"
   ]
  },
  {
   "cell_type": "markdown",
   "id": "60c7da78-4a77-4332-9f58-23d741f7bb65",
   "metadata": {},
   "source": [
    "Señalar que en este caso Spark administra tanto los metadatos como los datos."
   ]
  },
  {
   "cell_type": "code",
   "execution_count": 29,
   "id": "1c51a415-3e28-4e32-a37f-5e9311118101",
   "metadata": {},
   "outputs": [],
   "source": [
    "//spark.sql(\"CREATE TABLE managed_us_delay_flights_tbl (date STRING, delay INT, distance INT, origin STRING, destination STRING)\")"
   ]
  },
  {
   "cell_type": "code",
   "execution_count": 17,
   "id": "f89191c3-b4e2-43a3-aee8-7275ab317bb4",
   "metadata": {},
   "outputs": [
    {
     "data": {
      "text/plain": [
       "schema: String = date STRING, delay INT, distance INT, origin STRING, destination STRING\n",
       "flights_df: org.apache.spark.sql.DataFrame = [date: string, delay: int ... 3 more fields]\n"
      ]
     },
     "execution_count": 17,
     "metadata": {},
     "output_type": "execute_result"
    }
   ],
   "source": [
    "val schema = \"date STRING, delay INT, distance INT, origin STRING, destination STRING\"\n",
    "val flights_df = spark.read.schema(schema).csv(\"departuredelays.csv\")"
   ]
  },
  {
   "cell_type": "code",
   "execution_count": 18,
   "id": "5657f7f5-8bf5-421c-85f9-5d50f4ae20bc",
   "metadata": {},
   "outputs": [],
   "source": [
    "flights_df.write.saveAsTable(\"managed_us_delay_fights_tble\")"
   ]
  },
  {
   "cell_type": "code",
   "execution_count": 19,
   "id": "bb33553d-0f60-46f9-906a-019253e6f42d",
   "metadata": {},
   "outputs": [
    {
     "name": "stdout",
     "output_type": "stream",
     "text": [
      "+--------+-----+--------+------+-----------+\n",
      "|    date|delay|distance|origin|destination|\n",
      "+--------+-----+--------+------+-----------+\n",
      "|01010005|   -8|    2024|   LAX|        PBI|\n",
      "|01010010|   -6|    1980|   SEA|        CLT|\n",
      "|01010020|   -2|    1995|   SFO|        CLT|\n",
      "|01010020|    0|    1273|   SFO|        DFW|\n",
      "|01010023|   14|    1421|   SFO|        IAH|\n",
      "|01010025|   -3|    1452|   PHX|        DTW|\n",
      "|01010025|   33|    1198|   LAX|        IAH|\n",
      "|01010029|   49|    1061|   LAS|        IAH|\n",
      "|01010030|   -7|    2191|   SFO|        PHL|\n",
      "|01010030|   -2|    1983|   PDX|        CLT|\n",
      "|01010030|   -8|    1518|   LAS|        ATL|\n",
      "|01010035|   -1|    1259|   ANC|        SEA|\n",
      "|01010035|   -5|    1846|   LAX|        CLT|\n",
      "|01010040|   -6|    1382|   SLC|        ATL|\n",
      "|01010043|   18|    1413|   DEN|        JFK|\n",
      "|01010045|  -11|    1891|   LAS|        PHL|\n",
      "|01010050|   -6|    1340|   ANC|        PDX|\n",
      "|01010053|   14|    1259|   ANC|        SEA|\n",
      "|01010055|   -2|    2087|   LAX|        PHL|\n",
      "|01010059|   -9|    1042|   DEN|        ATL|\n",
      "+--------+-----+--------+------+-----------+\n",
      "only showing top 20 rows\n",
      "\n"
     ]
    }
   ],
   "source": [
    "spark.sql(\"\"\" SELECT * FROM managed_us_delay_fights_tble ORDER BY DATE asc\"\"\").show()"
   ]
  },
  {
   "cell_type": "markdown",
   "id": "fedd3d03-4813-4a32-8847-74520609229a",
   "metadata": {},
   "source": [
    "#### Vayamos ahora con una unmanaged table o tabla no administrada"
   ]
  },
  {
   "cell_type": "markdown",
   "id": "7108c95f-c217-417b-8909-20092afdcab2",
   "metadata": {},
   "source": [
    "En lenguaje SQL"
   ]
  },
  {
   "cell_type": "code",
   "execution_count": 64,
   "id": "cdcf2be3-9ff3-4ecd-a77e-9123c9d019bd",
   "metadata": {},
   "outputs": [
    {
     "data": {
      "text/plain": [
       "res61: org.apache.spark.sql.DataFrame = []\n"
      ]
     },
     "execution_count": 64,
     "metadata": {},
     "output_type": "execute_result"
    }
   ],
   "source": [
    "spark.sql(\"\"\"CREATE TABLE unmanaged_us_delay_flights_tbl(date STRING, delay INT, distance INT, origin STRING, destination STRING)\n",
    "USING csv OPTIONS (PATH \"departuredelays.csv\") \"\"\")"
   ]
  },
  {
   "cell_type": "code",
   "execution_count": 21,
   "id": "c8526b1f-d701-4561-a902-629ec3fd9028",
   "metadata": {},
   "outputs": [
    {
     "name": "stdout",
     "output_type": "stream",
     "text": [
      "+----+\n",
      "|date|\n",
      "+----+\n",
      "+----+\n",
      "\n"
     ]
    }
   ],
   "source": [
    "spark.sql(\"SELECT date FROM unmanaged_us_delay_flights_tbl\").show()"
   ]
  },
  {
   "cell_type": "markdown",
   "id": "5c8b4cc7-f5d1-4e80-8a30-cc47223ca4ba",
   "metadata": {},
   "source": [
    "Usando la API de DataFrame"
   ]
  },
  {
   "cell_type": "code",
   "execution_count": 30,
   "id": "f75ca3c8-841d-452d-96cb-ce5212e2005f",
   "metadata": {},
   "outputs": [],
   "source": [
    "flights_df.write.option(\"path\", \"spark-warehouse/unmanaged_us_flights_delay\").saveAsTable(\"unmanaged_us_delay_flights_tbl2\")"
   ]
  },
  {
   "cell_type": "markdown",
   "id": "4fb1a66b-9cff-437c-b27c-fa6e49739a38",
   "metadata": {},
   "source": [
    "#### Creación de una View"
   ]
  },
  {
   "cell_type": "markdown",
   "id": "88f73256-209b-46fc-ab1e-9d7b846c627a",
   "metadata": {},
   "source": [
    "Lo que en SQL sería \"CREATE OR REPLACE GLOBAL TEMP VIEW us_origin_airport_SFO_global_tmp_view AS SELECT (...)\". \n",
    "Aquí se hace de la siguiente manera."
   ]
  },
  {
   "cell_type": "code",
   "execution_count": 55,
   "id": "6981ab03-6e4d-4776-8f47-5a1d4dc0e0d2",
   "metadata": {},
   "outputs": [],
   "source": [
    "spark.sql(\"\"\"SELECT date, delay, origin, destination FROM managed_us_delay_fights_tble WHERE origin == \"SFO\" \"\"\").createOrReplaceGlobalTempView(\"us_origin_airport_SFO_global_tmp_view\")\n",
    "spark.sql(\"\"\"SELECT date, delay, origin, destination FROM managed_us_delay_fights_tble WHERE origin == \"JFK\" \"\"\").createOrReplaceTempView(\"us_origin_airport_JFK_tmp_view\")"
   ]
  },
  {
   "cell_type": "markdown",
   "id": "1abe3304-a3ad-4aa7-9176-373480e1b48b",
   "metadata": {},
   "source": [
    "En principio la única diferencia entre una view global y otra que no lo es, es que la global se puede consultar desde\n",
    "cualquier sparksession dentro del cluster. Mientras que la no global sólo en la sparkSession actual. Para acceder a la view global basta añadir global_temp.nombreDeView"
   ]
  },
  {
   "cell_type": "code",
   "execution_count": 35,
   "id": "da4e1456-2f02-4fe8-92c8-6d6a9e60063a",
   "metadata": {},
   "outputs": [
    {
     "name": "stdout",
     "output_type": "stream",
     "text": [
      "+--------+-----+------+-----------+\n",
      "|    date|delay|origin|destination|\n",
      "+--------+-----+------+-----------+\n",
      "|01011250|   55|   SFO|        JFK|\n",
      "|01012230|    0|   SFO|        JFK|\n",
      "|01010705|   -7|   SFO|        JFK|\n",
      "|01010620|   -3|   SFO|        MIA|\n",
      "|01010915|   -3|   SFO|        LAX|\n",
      "|01011005|   -8|   SFO|        DFW|\n",
      "|01011800|    0|   SFO|        ORD|\n",
      "|01011740|   -7|   SFO|        LAX|\n",
      "|01012015|   -7|   SFO|        LAX|\n",
      "|01012110|   -1|   SFO|        MIA|\n",
      "|01011610|  134|   SFO|        DFW|\n",
      "|01011240|   -6|   SFO|        MIA|\n",
      "|01010755|   -3|   SFO|        DFW|\n",
      "|01010020|    0|   SFO|        DFW|\n",
      "|01010705|   -6|   SFO|        LAX|\n",
      "|01010925|   -3|   SFO|        ORD|\n",
      "|01010555|   -6|   SFO|        ORD|\n",
      "|01011105|   -8|   SFO|        DFW|\n",
      "|01012330|   32|   SFO|        ORD|\n",
      "|01011330|    3|   SFO|        DFW|\n",
      "+--------+-----+------+-----------+\n",
      "only showing top 20 rows\n",
      "\n",
      "+--------+-----+------+-----------+\n",
      "|    date|delay|origin|destination|\n",
      "+--------+-----+------+-----------+\n",
      "|03312359|   67|   JFK|        SJU|\n",
      "|03312359|   -7|   JFK|        SJU|\n",
      "|03312359|   -6|   JFK|        BQN|\n",
      "|03312359|   -7|   JFK|        PSE|\n",
      "|03312255|   -5|   JFK|        BUF|\n",
      "|03312255|   12|   JFK|        BOS|\n",
      "|03312247|   -4|   JFK|        SYR|\n",
      "|03312245|   -4|   JFK|        PWM|\n",
      "|03312229|    1|   JFK|        BTV|\n",
      "|03312229|   13|   JFK|        ROC|\n",
      "|03312155|    1|   JFK|        FLL|\n",
      "|03312155|   -2|   JFK|        LAX|\n",
      "|03312140|   -6|   JFK|        BUF|\n",
      "|03312135|    4|   JFK|        LAS|\n",
      "|03312130|   -4|   JFK|        DCA|\n",
      "|03312129|   -2|   JFK|        MCO|\n",
      "|03312119|   -5|   JFK|        JAX|\n",
      "|03312059|   62|   JFK|        AUS|\n",
      "|03312059|  131|   JFK|        LAX|\n",
      "|03312057|   -2|   JFK|        SJU|\n",
      "+--------+-----+------+-----------+\n",
      "only showing top 20 rows\n",
      "\n",
      "+--------+-----+------+-----------+\n",
      "|    date|delay|origin|destination|\n",
      "+--------+-----+------+-----------+\n",
      "|03010900|  -11|   JFK|        LAX|\n",
      "|03011200|   -3|   JFK|        LAX|\n",
      "|03010655|   -3|   JFK|        LAX|\n",
      "|03011030|   47|   JFK|        LAX|\n",
      "|03011900|   50|   JFK|        LAX|\n",
      "|03010800|   10|   JFK|        LAX|\n",
      "|03011700|    1|   JFK|        LAS|\n",
      "|03010800|   -4|   JFK|        SFO|\n",
      "|03011540|   -3|   JFK|        DFW|\n",
      "|03011710|    3|   JFK|        SAN|\n",
      "|03010759|   -3|   JFK|        BOS|\n",
      "|03011530|  140|   JFK|        SFO|\n",
      "|03011630|   70|   JFK|        SJU|\n",
      "|03011345|   -4|   JFK|        LAX|\n",
      "|03011545|    1|   JFK|        LAX|\n",
      "|03011510|   -6|   JFK|        MIA|\n",
      "|03011250|   -1|   JFK|        BOS|\n",
      "|03011030|   55|   JFK|        SFO|\n",
      "|03011630|   -1|   JFK|        LAX|\n",
      "|03011715|   13|   JFK|        ORD|\n",
      "+--------+-----+------+-----------+\n",
      "only showing top 20 rows\n",
      "\n"
     ]
    }
   ],
   "source": [
    "spark.sql(\"\"\"SELECT * FROM global_temp.us_origin_airport_SFO_global_tmp_view\"\"\").show()\n",
    "spark.sql(\"\"\"SELECT * FROM us_origin_airport_JFK_tmp_view ORDER BY date DESC\"\"\").show()\n",
    "spark.read.table(\"us_origin_airport_JFK_tmp_view\").show()"
   ]
  },
  {
   "cell_type": "markdown",
   "id": "2b25cb65-ae00-47bf-9a4d-d451d20c0553",
   "metadata": {},
   "source": [
    "#### Catalog: metastore de Spark SQL"
   ]
  },
  {
   "cell_type": "code",
   "execution_count": 45,
   "id": "c0dae2cc-7d62-4d7c-b4e5-33556a48ffc0",
   "metadata": {},
   "outputs": [
    {
     "name": "stdout",
     "output_type": "stream",
     "text": [
      "+--------------+----------------+--------------------------------------------------------+\n",
      "|name          |description     |locationUri                                             |\n",
      "+--------------+----------------+--------------------------------------------------------+\n",
      "|default       |default database|file:/home/jovyan/work/spark-warehouse                  |\n",
      "|learn_spark_db|                |file:/home/jovyan/work/spark-warehouse/learn_spark_db.db|\n",
      "+--------------+----------------+--------------------------------------------------------+\n",
      "\n"
     ]
    }
   ],
   "source": [
    "spark.catalog.listDatabases().show(truncate=false)"
   ]
  },
  {
   "cell_type": "code",
   "execution_count": 56,
   "id": "f57fd9e6-ea00-49da-973d-6bcf58cbb7e2",
   "metadata": {},
   "outputs": [
    {
     "name": "stdout",
     "output_type": "stream",
     "text": [
      "+-------------------------------+--------------+-----------+---------+-----------+\n",
      "|name                           |database      |description|tableType|isTemporary|\n",
      "+-------------------------------+--------------+-----------+---------+-----------+\n",
      "|managed_us_delay_fights_tble   |learn_spark_db|null       |MANAGED  |false      |\n",
      "|unmanaged_us_delay_flights_tbl |learn_spark_db|null       |EXTERNAL |false      |\n",
      "|unmanaged_us_delay_flights_tbl2|learn_spark_db|null       |EXTERNAL |false      |\n",
      "|unmanaged_us_delay_flights_tbl3|learn_spark_db|null       |EXTERNAL |false      |\n",
      "|unmanaged_us_delay_flights_tble|learn_spark_db|null       |EXTERNAL |false      |\n",
      "|us_origin_airport_jfk_tmp_view |null          |null       |TEMPORARY|true       |\n",
      "+-------------------------------+--------------+-----------+---------+-----------+\n",
      "\n",
      "+--------------+-------------------------------+-----------+\n",
      "|namespace     |tableName                      |isTemporary|\n",
      "+--------------+-------------------------------+-----------+\n",
      "|learn_spark_db|managed_us_delay_fights_tble   |false      |\n",
      "|learn_spark_db|unmanaged_us_delay_flights_tbl |false      |\n",
      "|learn_spark_db|unmanaged_us_delay_flights_tbl2|false      |\n",
      "|learn_spark_db|unmanaged_us_delay_flights_tbl3|false      |\n",
      "|learn_spark_db|unmanaged_us_delay_flights_tble|false      |\n",
      "|              |us_origin_airport_jfk_tmp_view |true       |\n",
      "+--------------+-------------------------------+-----------+\n",
      "\n"
     ]
    }
   ],
   "source": [
    "spark.catalog.listTables().show(truncate=false)\n",
    "spark.sql(\"show tables\").show(truncate=false)"
   ]
  },
  {
   "cell_type": "code",
   "execution_count": 47,
   "id": "75efca99-7a6e-41af-a57f-72ba25d7ac45",
   "metadata": {},
   "outputs": [
    {
     "name": "stdout",
     "output_type": "stream",
     "text": [
      "+-----------+-----------+--------+--------+-----------+--------+\n",
      "|name       |description|dataType|nullable|isPartition|isBucket|\n",
      "+-----------+-----------+--------+--------+-----------+--------+\n",
      "|date       |null       |string  |true    |false      |false   |\n",
      "|delay      |null       |int     |true    |false      |false   |\n",
      "|distance   |null       |int     |true    |false      |false   |\n",
      "|origin     |null       |string  |true    |false      |false   |\n",
      "|destination|null       |string  |true    |false      |false   |\n",
      "+-----------+-----------+--------+--------+-----------+--------+\n",
      "\n"
     ]
    }
   ],
   "source": [
    "spark.catalog.listColumns(\"managed_us_delay_fights_tble\").show(truncate=false)"
   ]
  },
  {
   "cell_type": "markdown",
   "id": "4834c6f4-cd80-49a8-b4fd-73a5d34d51d2",
   "metadata": {},
   "source": [
    "#### Mencionamos el almacenamiento de las tablas en cache"
   ]
  },
  {
   "cell_type": "markdown",
   "id": "8ac77ba6-6f91-4be9-bf81-b8e9e3924ba3",
   "metadata": {},
   "source": [
    "Simplemente mencionar cómo se guarda. Las estrategias de hacerlo se discutirán en el capítulo 12"
   ]
  },
  {
   "cell_type": "code",
   "execution_count": 49,
   "id": "c476c101-df52-42db-b9c5-6b4df830b76e",
   "metadata": {},
   "outputs": [
    {
     "data": {
      "text/plain": [
       "res46: org.apache.spark.sql.DataFrame = []\n"
      ]
     },
     "execution_count": 49,
     "metadata": {},
     "output_type": "execute_result"
    }
   ],
   "source": [
    "spark.sql(\"\"\"CACHE TABLE managed_us_delay_fights_tble\"\"\")\n",
    "spark.sql(\"\"\"UNCACHE TABLE managed_us_delay_fights_tble\"\"\")"
   ]
  },
  {
   "cell_type": "markdown",
   "id": "455444c2-e29c-435e-80c0-ea3968a69c4a",
   "metadata": {},
   "source": [
    "Mencionar que entre CACHE y TABLE puede ir LAZY lo cual hace que la tabla se cargue en memoria sólo cuando se ejecute la acción."
   ]
  },
  {
   "cell_type": "code",
   "execution_count": 62,
   "id": "07ceebc1-47dc-4575-a14d-d5b0ccd50894",
   "metadata": {},
   "outputs": [
    {
     "data": {
      "text/plain": [
       "res59: org.apache.spark.sql.DataFrame = []\n"
      ]
     },
     "execution_count": 62,
     "metadata": {},
     "output_type": "execute_result"
    }
   ],
   "source": [
    "spark.sql(\"\"\"DROP TABLE unmanaged_us_delay_flights_tbl3\"\"\")\n",
    "spark.sql(\"\"\"DROP TABLE unmanaged_us_delay_flights_tbl2\"\"\")\n",
    "spark.sql(\"\"\"DROP TABLE unmanaged_us_delay_flights_tbl\"\"\")\n",
    "spark.sql(\"\"\"DROP TABLE unmanaged_us_delay_flights_tble\"\"\")"
   ]
  },
  {
   "cell_type": "code",
   "execution_count": 67,
   "id": "5419d367-5218-4b04-8e32-5a0c0a399349",
   "metadata": {},
   "outputs": [
    {
     "name": "stdout",
     "output_type": "stream",
     "text": [
      "+--------------+------------------------------+-----------+\n",
      "|namespace     |tableName                     |isTemporary|\n",
      "+--------------+------------------------------+-----------+\n",
      "|learn_spark_db|managed_us_delay_fights_tble  |false      |\n",
      "|learn_spark_db|unmanaged_us_delay_flights_tbl|false      |\n",
      "|              |us_origin_airport_jfk_tmp_view|true       |\n",
      "+--------------+------------------------------+-----------+\n",
      "\n"
     ]
    }
   ],
   "source": [
    "spark.sql(\"\"\"show tables\"\"\").show(truncate=false)"
   ]
  },
  {
   "cell_type": "markdown",
   "id": "d4419485-6a5b-4d0f-bdd9-3e0e2245451d",
   "metadata": {},
   "source": [
    "#### .table() Util para trasladar a un Dataframe una tabla de la db"
   ]
  },
  {
   "cell_type": "code",
   "execution_count": 68,
   "id": "263e0c30-5fbe-4e77-928b-618109ee9455",
   "metadata": {},
   "outputs": [
    {
     "name": "stdout",
     "output_type": "stream",
     "text": [
      "+--------+-----+--------+------+-----------+\n",
      "|    date|delay|distance|origin|destination|\n",
      "+--------+-----+--------+------+-----------+\n",
      "|01010630|  -10|     928|   RSW|        EWR|\n",
      "|01021029|   87|     974|   RSW|        ORD|\n",
      "|01021346|    0|     928|   RSW|        EWR|\n",
      "|01021044|   18|     928|   RSW|        EWR|\n",
      "|01021730|   29|     748|   RSW|        IAH|\n",
      "|01020535|  605|     974|   RSW|        ORD|\n",
      "|01021820|   71|     974|   RSW|        ORD|\n",
      "|01021743|    0|     928|   RSW|        EWR|\n",
      "|01022017|    0|     928|   RSW|        EWR|\n",
      "|01020600|   -2|     748|   RSW|        IAH|\n",
      "|01021214|   29|     891|   RSW|        CLE|\n",
      "|01020630|   -5|     928|   RSW|        EWR|\n",
      "|01031029|   13|     974|   RSW|        ORD|\n",
      "|01031346|  279|     928|   RSW|        EWR|\n",
      "|01031740|   29|     748|   RSW|        IAH|\n",
      "|01030535|    0|     974|   RSW|        ORD|\n",
      "|01031808|   -3|     974|   RSW|        ORD|\n",
      "|01031516|   -2|    1396|   RSW|        DEN|\n",
      "|01032017|   14|     928|   RSW|        EWR|\n",
      "|01031214|   17|     891|   RSW|        CLE|\n",
      "+--------+-----+--------+------+-----------+\n",
      "only showing top 20 rows\n",
      "\n"
     ]
    }
   ],
   "source": [
    "spark.table(\"managed_us_delay_fights_tble\").show()"
   ]
  },
  {
   "cell_type": "code",
   "execution_count": null,
   "id": "843a834c-4df4-4b96-b21a-e5c0402fd5d1",
   "metadata": {},
   "outputs": [],
   "source": []
  }
 ],
 "metadata": {
  "kernelspec": {
   "display_name": "spylon-kernel",
   "language": "scala",
   "name": "spylon-kernel"
  },
  "language_info": {
   "codemirror_mode": "text/x-scala",
   "file_extension": ".scala",
   "help_links": [
    {
     "text": "MetaKernel Magics",
     "url": "https://metakernel.readthedocs.io/en/latest/source/README.html"
    }
   ],
   "mimetype": "text/x-scala",
   "name": "scala",
   "pygments_lexer": "scala",
   "version": "0.4.1"
  }
 },
 "nbformat": 4,
 "nbformat_minor": 5
}
