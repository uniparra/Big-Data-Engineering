{
 "cells": [
  {
   "cell_type": "markdown",
   "id": "685b32f3-19b7-4ba9-8ab6-0c64a980f198",
   "metadata": {},
   "source": [
    "# Ejemplo de un RDD."
   ]
  },
  {
   "cell_type": "code",
   "execution_count": 9,
   "id": "37c12235-ffe1-40d3-a82e-d3f5779dc5ce",
   "metadata": {},
   "outputs": [],
   "source": [
    "from pyspark import SparkContext"
   ]
  },
  {
   "cell_type": "markdown",
   "id": "1ef893ba-c2d0-4f20-85ab-19566ed06cbc",
   "metadata": {},
   "source": [
    "_Similar a SparkSession, es necesario iniciar un **SparkContext**_"
   ]
  },
  {
   "cell_type": "code",
   "execution_count": 12,
   "id": "d7488d7d-1e93-45bf-bd29-d56563060201",
   "metadata": {},
   "outputs": [],
   "source": [
    "sc=SparkContext()\n",
    "dataRRDD=sc.parallelize([(\"Brook\",100),(\"Joly\",30),(\"Unai\",26),(\"Ander\",24),(\"Denny\",40),(\"TD\",60)])"
   ]
  },
  {
   "cell_type": "markdown",
   "id": "c2f9c475-ec20-415f-b953-f3f10a40a5be",
   "metadata": {},
   "source": [
    "_Observemos que debemos espeficicar tando el map como el reduce. Obserar tambien el uso de la **funcion anónima** lambda, fuente de virtud y debilidad_"
   ]
  },
  {
   "cell_type": "code",
   "execution_count": 14,
   "id": "264bd59e-26c2-49e7-8e43-84fab7f15a4c",
   "metadata": {},
   "outputs": [],
   "source": [
    "agesRDD=(dataRRDD.map(lambda x: (x[0],(x[1],1))).reduceByKey(lambda x, y:(x[0]+y[0],x[1]+y[1])).map(lambda x: (x[0], x[1][0]/x[1][1])))"
   ]
  },
  {
   "cell_type": "code",
   "execution_count": 21,
   "id": "586b0b61-d735-494f-9579-7fa464afb58d",
   "metadata": {},
   "outputs": [
    {
     "data": {
      "text/plain": [
       "[('Joly', 30.0),\n",
       " ('Unai', 26.0),\n",
       " ('Denny', 40.0),\n",
       " ('Ander', 24.0),\n",
       " ('TD', 60.0),\n",
       " ('Brook', 100.0)]"
      ]
     },
     "execution_count": 21,
     "metadata": {},
     "output_type": "execute_result"
    }
   ],
   "source": [
    "agesRDD.take(60)"
   ]
  },
  {
   "cell_type": "code",
   "execution_count": null,
   "id": "01b8f2bb-24c9-4c65-a8b9-b2d17c30bf16",
   "metadata": {},
   "outputs": [],
   "source": []
  }
 ],
 "metadata": {
  "kernelspec": {
   "display_name": "Python 3 (ipykernel)",
   "language": "python",
   "name": "python3"
  },
  "language_info": {
   "codemirror_mode": {
    "name": "ipython",
    "version": 3
   },
   "file_extension": ".py",
   "mimetype": "text/x-python",
   "name": "python",
   "nbconvert_exporter": "python",
   "pygments_lexer": "ipython3",
   "version": "3.9.12"
  }
 },
 "nbformat": 4,
 "nbformat_minor": 5
}
